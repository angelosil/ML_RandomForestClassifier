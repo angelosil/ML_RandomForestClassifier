{
  "cells": [
    {
      "cell_type": "markdown",
      "metadata": {
        "id": "view-in-github",
        "colab_type": "text"
      },
      "source": [
        "<a href=\"https://colab.research.google.com/github/angelosil/ML_RandomForestClassifier/blob/main/ML_Alunos_RandomForestClassifier.ipynb\" target=\"_parent\"><img src=\"https://colab.research.google.com/assets/colab-badge.svg\" alt=\"Open In Colab\"/></a>"
      ]
    },
    {
      "cell_type": "markdown",
      "metadata": {
        "id": "X9dBxiNPAwr6"
      },
      "source": [
        "Carregamento do arquivo"
      ]
    },
    {
      "cell_type": "code",
      "source": [
        "import pandas as pd\n",
        "from sklearn.preprocessing import OneHotEncoder\n",
        "from sklearn.ensemble import RandomForestClassifier\n",
        "\n",
        "\n",
        "df = pd.read_csv('alunos.csv', delimiter=';')\n",
        "\n",
        "df = df[['areaCurso', 'Ingles', 'Espanhol', 'Alemao', 'Frances', 'Japones', 'Italiano', 'foicontratado']]\n",
        "\n",
        "df_gti = df[df['areaCurso'] == 'Publicidade / Propaganda']\n",
        "\n",
        "print(df_gti.isnull().sum())\n",
        "\n",
        "df_gti.fillna(0, inplace=True)\n",
        "\n",
        "print(df_gti.dtypes)\n",
        "\n"
      ],
      "metadata": {
        "id": "ZAfUPiVVPjIh"
      },
      "execution_count": null,
      "outputs": []
    },
    {
      "cell_type": "code",
      "source": [
        "from sklearn.preprocessing import OneHotEncoder\n",
        "\n",
        "# One-hot encoding para 'areaCurso'\n",
        "df = pd.get_dummies(df_gti, columns=['areaCurso'])\n",
        "\n",
        "# Garantir que as variáveis de idiomas sejam do tipo inteiro\n",
        "language_columns = ['Ingles', 'Espanhol', 'Alemao', 'Frances', 'Japones', 'Italiano']\n",
        "df[language_columns] = df[language_columns].astype(int)\n",
        "\n"
      ],
      "metadata": {
        "id": "BiEMjIVIdWW9"
      },
      "execution_count": null,
      "outputs": []
    },
    {
      "cell_type": "code",
      "source": [
        "# Variável alvo\n",
        "y = df['foicontratado']\n",
        "\n",
        "# Variáveis independentes\n",
        "X = df.drop('foicontratado', axis=1)\n",
        "\n"
      ],
      "metadata": {
        "id": "JZKX8sXsdbqT"
      },
      "execution_count": null,
      "outputs": []
    },
    {
      "cell_type": "code",
      "source": [
        "from sklearn.model_selection import train_test_split\n",
        "\n",
        "# Dividir os dados em treino e teste\n",
        "X_train, X_test, y_train, y_test = train_test_split(X, y, test_size=0.2, random_state=56)"
      ],
      "metadata": {
        "id": "H5ZRQ_gCeM_j"
      },
      "execution_count": null,
      "outputs": []
    },
    {
      "cell_type": "code",
      "source": [
        "from sklearn.ensemble import RandomForestClassifier\n",
        "\n",
        "# Inicializar o modelo\n",
        "model = RandomForestClassifier(n_estimators=100, class_weight='balanced', random_state=56)\n",
        "\n",
        "# Treinar o modelo\n",
        "model.fit(X_train, y_train)"
      ],
      "metadata": {
        "id": "19DwQRbseQhg"
      },
      "execution_count": null,
      "outputs": []
    },
    {
      "cell_type": "code",
      "source": [
        "from sklearn.metrics import classification_report, accuracy_score, precision_score, recall_score, f1_score, confusion_matrix\n",
        "import matplotlib.pyplot as plt\n",
        "import seaborn as sns\n",
        "\n",
        "y_pred = model.predict(X_test)\n",
        "\n",
        "accuracy = accuracy_score(y_test, y_pred)\n",
        "precision = precision_score(y_test, y_pred)\n",
        "recall = recall_score(y_test, y_pred)\n",
        "f1 = f1_score(y_test, y_pred)\n",
        "\n",
        "print(classification_report(y_test, y_pred))"
      ],
      "metadata": {
        "id": "VPhCpPKfeT2Q"
      },
      "execution_count": null,
      "outputs": []
    },
    {
      "cell_type": "code",
      "source": [
        "importances = model.feature_importances_\n",
        "feature_importance = pd.Series(importances, index=X.columns).sort_values(ascending=False)\n",
        "\n",
        "print(feature_importance)"
      ],
      "metadata": {
        "id": "-JTJXGS4eX01"
      },
      "execution_count": null,
      "outputs": []
    },
    {
      "cell_type": "code",
      "source": [
        "# Matriz de Confusão\n",
        "cm = confusion_matrix(y_test, y_pred)\n",
        "plt.figure(figsize=(8, 6))\n",
        "sns.heatmap(cm, annot=True, cmap='Blues', fmt='g', cbar=False)\n",
        "plt.xlabel('Predicted labels')\n",
        "plt.ylabel('True labels')\n",
        "plt.title('Confusion Matrix')\n",
        "plt.show()"
      ],
      "metadata": {
        "id": "q8tVKsB6JKOn"
      },
      "execution_count": null,
      "outputs": []
    }
  ],
  "metadata": {
    "colab": {
      "provenance": [],
      "authorship_tag": "ABX9TyP6x6jDc0bfuUXIc5iAqMS1",
      "include_colab_link": true
    },
    "kernelspec": {
      "display_name": "Python 3",
      "name": "python3"
    },
    "language_info": {
      "name": "python"
    }
  },
  "nbformat": 4,
  "nbformat_minor": 0
}